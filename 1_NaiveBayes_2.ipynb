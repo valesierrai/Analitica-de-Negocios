{
  "nbformat": 4,
  "nbformat_minor": 0,
  "metadata": {
    "colab": {
      "provenance": [],
      "authorship_tag": "ABX9TyMi8mdH5r8OwPhufbIjhrwp",
      "include_colab_link": true
    },
    "kernelspec": {
      "name": "python3",
      "display_name": "Python 3"
    },
    "language_info": {
      "name": "python"
    }
  },
  "cells": [
    {
      "cell_type": "markdown",
      "metadata": {
        "id": "view-in-github",
        "colab_type": "text"
      },
      "source": [
        "<a href=\"https://colab.research.google.com/github/valesierrai/Analitica-de-Negocios/blob/main/1_NaiveBayes_2.ipynb\" target=\"_parent\"><img src=\"https://colab.research.google.com/assets/colab-badge.svg\" alt=\"Open In Colab\"/></a>"
      ]
    },
    {
      "cell_type": "markdown",
      "source": [
        "0. Cargar Librerias"
      ],
      "metadata": {
        "id": "LHFEONG82f_e"
      }
    },
    {
      "cell_type": "code",
      "execution_count": null,
      "metadata": {
        "id": "_PN545Z42XaA"
      },
      "outputs": [],
      "source": [
        "import numpy as np\n",
        "import pandas as pd\n",
        "from  sklearn.naive_bayes import GaussianNB\n",
        "from sklearn.metrics import confusion_matrix"
      ]
    },
    {
      "cell_type": "markdown",
      "source": [
        "1. Se procede con la carga de la base de datos"
      ],
      "metadata": {
        "id": "f7yfj8lm2x-z"
      }
    },
    {
      "cell_type": "code",
      "source": [
        "nxl=\"/content/0. SolicitantesCrédito(USD)_NB.xlsx\"\n",
        "XDB=pd.read_excel(nxl,sheet_name=1)\n",
        "XDB=XDB.dropna()\n",
        "\n",
        "XD= XDB[['Edad','Ingresos','Egresos','Monto (EAD)', 'Plazo','Cuota (COP)']]\n",
        "yd=np.array(XDB[['Estrato']])"
      ],
      "metadata": {
        "id": "87AyEsxi3cjY"
      },
      "execution_count": null,
      "outputs": []
    },
    {
      "cell_type": "markdown",
      "source": [
        "2. Creamos el modelo de clasificiación Naive Bayes"
      ],
      "metadata": {
        "id": "FyLtcGEi5WEr"
      }
    },
    {
      "cell_type": "code",
      "source": [
        "mbn=GaussianNB()\n",
        "mbn.fit(XD,yd)\n",
        "\n",
        "#Obtenemos los valores de las medias\n",
        "u=mbn.theta_\n",
        "\n",
        "#Se procede con el calculo de las desviación\n",
        "sigma=np.sqrt(mbn.var_)\n",
        "\n",
        "#Se procede a evaluar la información del profesor\n",
        "#XA=np.array([[43,1500,500]])\n",
        "#VP=mbn.predict(XA)\n",
        "\n",
        "#Evaluamos el comportamiento del modelo\n",
        "ymbn=mbn.predict (XD)\n",
        "confusion_matrix(yd,ymbn)\n",
        "\n",
        "#Cuantos solicitantes de crédito hay por categoría\n",
        "ndc=mbn.class_count_"
      ],
      "metadata": {
        "id": "1Fvo17qD41-z"
      },
      "execution_count": null,
      "outputs": []
    },
    {
      "cell_type": "markdown",
      "source": [
        "3. Descargamos la información a Excel"
      ],
      "metadata": {
        "id": "CiVRf0mO7DKF"
      }
    },
    {
      "cell_type": "code",
      "source": [
        "cm=confusion_matrix(yd,ymbn)\n",
        "dfcm=pd.DataFrame(cm)\n",
        "dfcm.to_excel(\"Basura.xlsx\")\n",
        "\n",
        "#Vamos a obtener los resultados del pronóstico\n",
        "ymbn=mbn.predict(XD)\n",
        "df_ymbn=pd.DataFrame(ymbn)\n",
        "df_ymbn.to_excel(\"PronosticoNB.xlsx\")"
      ],
      "metadata": {
        "id": "9sxmNC8x7MAX"
      },
      "execution_count": null,
      "outputs": []
    }
  ]
}