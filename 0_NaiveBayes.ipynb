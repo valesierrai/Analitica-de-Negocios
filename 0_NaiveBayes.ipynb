{
  "nbformat": 4,
  "nbformat_minor": 0,
  "metadata": {
    "colab": {
      "provenance": [],
      "authorship_tag": "ABX9TyPr7kZaEkeWqvectbCcNKkw",
      "include_colab_link": true
    },
    "kernelspec": {
      "name": "python3",
      "display_name": "Python 3"
    },
    "language_info": {
      "name": "python"
    }
  },
  "cells": [
    {
      "cell_type": "markdown",
      "metadata": {
        "id": "view-in-github",
        "colab_type": "text"
      },
      "source": [
        "<a href=\"https://colab.research.google.com/github/valesierrai/Analitica-de-Negocios/blob/main/0_NaiveBayes.ipynb\" target=\"_parent\"><img src=\"https://colab.research.google.com/assets/colab-badge.svg\" alt=\"Open In Colab\"/></a>"
      ]
    },
    {
      "cell_type": "markdown",
      "source": [
        "0. Cargamos las Librerias"
      ],
      "metadata": {
        "id": "k0qrtz_oaRpX"
      }
    },
    {
      "cell_type": "code",
      "execution_count": null,
      "metadata": {
        "id": "wvrFDPprW170"
      },
      "outputs": [],
      "source": [
        "import numpy as np\n",
        "import pandas as pd"
      ]
    },
    {
      "cell_type": "markdown",
      "source": [
        "1. Se procede con la carga de la base de datos"
      ],
      "metadata": {
        "id": "dG3yc4SsapoB"
      }
    },
    {
      "cell_type": "code",
      "source": [
        "nxl=\"/content/0. SolicitantesCrédito(USD)_NB.xlsx\"\n",
        "XDB=pd.read_excel(nxl,sheet_name=1)\n",
        "XDB=XDB.dropna()\n",
        "\n",
        "#Se procede con la selección de las variables\n",
        "XD=np.array(XDB[['Edad']])\n",
        "#XD=np.array(XDB[['Edad', 'Estrato', 'Ingresos']])\n",
        "yd=np.array(XDB[['PreApr']])\n",
        "\n",
        "#Se procede con la separación de los datos\n",
        "nfa=np.where(yd==1)[0] #Donde están los aprobados\n",
        "nfn=np.where(yd==0)[0] #Donde están los negados"
      ],
      "metadata": {
        "id": "LzE75_0HbAvH"
      },
      "execution_count": null,
      "outputs": []
    },
    {
      "cell_type": "markdown",
      "source": [
        "2. Creamos los conjuntos- clusters"
      ],
      "metadata": {
        "id": "SGH1OuP-f9MW"
      }
    },
    {
      "cell_type": "code",
      "source": [
        "XProf=43 #Edad del Profesor\n",
        "XDA=XD[nfa] #Traer de la base de datos solo las filas aprobadas\n",
        "ua=np.mean(XDA);sigmaa=np.std(XDA)\n",
        "print(\"La media de los datos es:\", ua)\n",
        "print(\"La desviación de los datos es:\", sigmaa)\n",
        "vpa=np.exp(-0.5*((XProf-ua)/sigmaa)**2)\n",
        "print(\"El valor de pertenencia de los aprobados es:\", vpa)\n",
        "\n",
        "XDN=XD[nfn] #Traer de la base de datos solo las filas negadas\n",
        "un=np.mean(XDN);sigman=np.std(XDN)\n",
        "print(\"La media de los datos negados es:\", un)\n",
        "print(\"La desviación de los datos negados es:\", sigman)\n",
        "vpn=np.exp(-0.5*((XProf-un)/sigman)**2)\n",
        "print(\"El valor de pertenencia de los negados es:\", vpn)\n"
      ],
      "metadata": {
        "colab": {
          "base_uri": "https://localhost:8080/"
        },
        "id": "Zyk6iVNRc8VY",
        "outputId": "1e6f828f-6fe2-4f6e-b9de-ed8b6200ac23"
      },
      "execution_count": null,
      "outputs": [
        {
          "output_type": "stream",
          "name": "stdout",
          "text": [
            "La media de los datos es: 41.10752688172043\n",
            "La desviación de los datos es: 12.251054399986755\n",
            "El valor de pertenencia de los aprobados es: 0.9881397384994769\n",
            "La media de los datos negados es: 40.98411625549172\n",
            "La desviación de los datos negados es: 12.213022117711962\n",
            "El valor de pertenencia de los negados es: 0.9864699323809762\n"
          ]
        }
      ]
    },
    {
      "cell_type": "markdown",
      "source": [
        "3. Decisión Final"
      ],
      "metadata": {
        "id": "pT4Iz5I5ms_u"
      }
    },
    {
      "cell_type": "code",
      "source": [
        "if vpa>vpn:\n",
        "  print(\"El crédito es aprobado\")\n",
        "if vpa<vpn:\n",
        "  print(\"El crédito es negado\")"
      ],
      "metadata": {
        "colab": {
          "base_uri": "https://localhost:8080/"
        },
        "id": "IQ7O-9yAiUIo",
        "outputId": "8d7cc0cc-1966-43f7-dd03-bdd778e5cc2c"
      },
      "execution_count": null,
      "outputs": [
        {
          "output_type": "stream",
          "name": "stdout",
          "text": [
            "El crédito es aprobado\n"
          ]
        }
      ]
    },
    {
      "cell_type": "code",
      "source": [],
      "metadata": {
        "id": "YQoLd7AjnAi8"
      },
      "execution_count": null,
      "outputs": []
    }
  ]
}