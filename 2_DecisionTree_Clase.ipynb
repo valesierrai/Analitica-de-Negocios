{
  "nbformat": 4,
  "nbformat_minor": 0,
  "metadata": {
    "colab": {
      "provenance": [],
      "mount_file_id": "1PFLvUfpLtgfLrISG87ixNmJwpm5px0ic",
      "authorship_tag": "ABX9TyPR+mAeTLeu7+3kMwgfKT52",
      "include_colab_link": true
    },
    "kernelspec": {
      "name": "python3",
      "display_name": "Python 3"
    },
    "language_info": {
      "name": "python"
    }
  },
  "cells": [
    {
      "cell_type": "markdown",
      "metadata": {
        "id": "view-in-github",
        "colab_type": "text"
      },
      "source": [
        "<a href=\"https://colab.research.google.com/github/valesierrai/Analitica-de-Negocios/blob/main/2_DecisionTree_Clase.ipynb\" target=\"_parent\"><img src=\"https://colab.research.google.com/assets/colab-badge.svg\" alt=\"Open In Colab\"/></a>"
      ]
    },
    {
      "cell_type": "markdown",
      "source": [
        "0. Cargamos las librerias"
      ],
      "metadata": {
        "id": "yfwLJqheXs6n"
      }
    },
    {
      "cell_type": "code",
      "execution_count": null,
      "metadata": {
        "colab": {
          "base_uri": "https://localhost:8080/"
        },
        "id": "EpOXXk0lVrqd",
        "outputId": "1e2813c9-52b1-436f-b11a-247e7683e7aa"
      },
      "outputs": [
        {
          "output_type": "stream",
          "name": "stdout",
          "text": [
            "Drive already mounted at /content/drive; to attempt to forcibly remount, call drive.mount(\"/content/drive\", force_remount=True).\n"
          ]
        }
      ],
      "source": [
        "#Conexión con el Drive\n",
        "from google.colab import drive\n",
        "drive.mount('/content/drive')\n",
        "\n",
        "import numpy as np\n",
        "import pandas as pd\n",
        "from sklearn.metrics import confusion_matrix\n",
        "from sklearn.tree import DecisionTreeClassifier"
      ]
    },
    {
      "cell_type": "markdown",
      "source": [
        "1. Se procede con la carga de los datos"
      ],
      "metadata": {
        "id": "3c4csiBrYxtP"
      }
    },
    {
      "cell_type": "code",
      "source": [
        "nxl='/content/drive/MyDrive/Colab Notebooks/Analítica de Negocios/0. SolicitantesCrédito(USD).xlsx'\n",
        "XDB=pd.read_excel(nxl,sheet_name=1) #Base de Datos AAA\n",
        "XDB=XDB[['Edad','Ingresos','Egresos','Monto (EAD)','PreApr']]\n",
        "XDB=XDB.dropna()\n",
        "\n",
        "#Ahora se procede con la confirguración de la matriz de entrada\n",
        "#y del vector de datos deseado\n",
        "XD=np.array(XDB[['Edad','Ingresos','Egresos','Monto (EAD)']])\n",
        "yd=np.array(XDB[['PreApr']])"
      ],
      "metadata": {
        "id": "UFDw7Z4kYBCc"
      },
      "execution_count": null,
      "outputs": []
    },
    {
      "cell_type": "markdown",
      "source": [
        "2. Se procede con la implementación del modelo"
      ],
      "metadata": {
        "id": "B1CkpYcwb6u2"
      }
    },
    {
      "cell_type": "code",
      "source": [
        "mar=DecisionTreeClassifier(criterion='gini', max_depth=4)\n",
        "mar.fit(XD,yd)\n",
        "\n",
        "#Evaluamos el modelo\n",
        "ydp=mar.predict(XD)\n",
        "cm=confusion_matrix(yd,ydp)\n",
        "\n",
        "#Como obtener las metricas automáticamente\n",
        "VP=cm[0,0];FN=cm[0,1];FP=cm[1,0];VN=cm[1,1]\n",
        "Ex=(VP+VN)/(VP+VN+FP+FN)\n",
        "print(\"La exactitud es:\", Ex)\n",
        "\n",
        "Te=(FN+FP)/(VP+VN+FP+FN)\n",
        "print(\"La tasa de error es:\", Te)\n",
        "\n",
        "Sen=VP/(VP+FP)\n",
        "print(\"La sensibilidad es:\", Sen)\n",
        "\n",
        "Esp=VN/(FN+VN)\n",
        "print(\"La espicificidad es:\", Esp)\n"
      ],
      "metadata": {
        "colab": {
          "base_uri": "https://localhost:8080/"
        },
        "id": "iOtzvUJwb-nu",
        "outputId": "0b8129fb-5b0b-489d-bab2-8346ccf46a27"
      },
      "execution_count": null,
      "outputs": [
        {
          "output_type": "stream",
          "name": "stdout",
          "text": [
            "La exactitud es: 0.7771311194796303\n",
            "La tasa de error es: 0.22286888052036974\n",
            "La sensibilidad es: 0.7813242784380305\n",
            "La espicificidad es: 0.772868484639282\n"
          ]
        }
      ]
    },
    {
      "cell_type": "markdown",
      "source": [
        "3. ¿Dónde está el árbol de decisión?"
      ],
      "metadata": {
        "id": "t1J3dblJhy4A"
      }
    },
    {
      "cell_type": "code",
      "source": [
        "#Libreria para las gráficas\n",
        "from sklearn.tree import export_graphviz\n",
        "from pydotplus import graph_from_dot_data\n",
        "\n",
        "vs=['Edad','Ingresos','Egresos','Monto (EAD)'] #Titulos Árbol\n",
        "dot_data=export_graphviz(mar,feature_names=vs) #Coloque los nombres al árbol\n",
        "graph=graph_from_dot_data(dot_data) #Creeme el gráfico\n",
        "graph.write_png('Arbol_PreAprobacion.png')"
      ],
      "metadata": {
        "colab": {
          "base_uri": "https://localhost:8080/"
        },
        "id": "Io4Jm3R-h97P",
        "outputId": "cc9f596b-a5bf-4f35-adf9-b2568ce744cc"
      },
      "execution_count": null,
      "outputs": [
        {
          "output_type": "execute_result",
          "data": {
            "text/plain": [
              "True"
            ]
          },
          "metadata": {},
          "execution_count": 5
        }
      ]
    }
  ]
}