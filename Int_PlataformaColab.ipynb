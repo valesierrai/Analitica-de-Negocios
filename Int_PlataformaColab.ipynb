{
  "nbformat": 4,
  "nbformat_minor": 0,
  "metadata": {
    "colab": {
      "provenance": [],
      "include_colab_link": true
    },
    "kernelspec": {
      "name": "python3",
      "display_name": "Python 3"
    },
    "language_info": {
      "name": "python"
    }
  },
  "cells": [
    {
      "cell_type": "markdown",
      "metadata": {
        "id": "view-in-github",
        "colab_type": "text"
      },
      "source": [
        "<a href=\"https://colab.research.google.com/github/valesierrai/Analitica-de-Negocios/blob/main/Int_PlataformaColab.ipynb\" target=\"_parent\"><img src=\"https://colab.research.google.com/assets/colab-badge.svg\" alt=\"Open In Colab\"/></a>"
      ]
    },
    {
      "cell_type": "markdown",
      "source": [
        "0. Cargar Librerias"
      ],
      "metadata": {
        "id": "Lw_5RZAU-tM5"
      }
    },
    {
      "cell_type": "code",
      "execution_count": null,
      "metadata": {
        "id": "FUwJu-wC-kQM"
      },
      "outputs": [],
      "source": [
        "import numpy as np #Funciones numéricas transformación y análisis de datos\n",
        "import pandas as pd #Conectar el sistema con los datos"
      ]
    },
    {
      "cell_type": "markdown",
      "source": [
        "1. Conexión con la base de datos"
      ],
      "metadata": {
        "id": "zyZbKDLm_Nf0"
      }
    },
    {
      "cell_type": "code",
      "source": [
        "nxl=\"/content/0. SolicitantesCrédito(Quiz 1).xlsx\"\n",
        "XDB=pd.read_excel(nxl,sheet_name=0) #DataFrame: Tabla de Datos - Tablas de Word"
      ],
      "metadata": {
        "id": "O9Lj3WON4-tu"
      },
      "execution_count": null,
      "outputs": []
    },
    {
      "cell_type": "markdown",
      "source": [
        "2. Llamar la variable de caracterización (Edad)"
      ],
      "metadata": {
        "id": "6TP4QU-0PWxk"
      }
    },
    {
      "cell_type": "code",
      "source": [
        "XDe=XDB[['Edad']]\n",
        "print(XDe)\n",
        "XDe=XDe.dropna() #Evitar celdas vacias\n",
        "XDe=np.array(XDe)"
      ],
      "metadata": {
        "id": "ua-SKZ3w6ugq",
        "colab": {
          "base_uri": "https://localhost:8080/"
        },
        "outputId": "a0a0369a-84b8-4fad-e2af-16a547f1054e"
      },
      "execution_count": null,
      "outputs": [
        {
          "output_type": "stream",
          "name": "stdout",
          "text": [
            "      Edad\n",
            "0       38\n",
            "1       51\n",
            "2       37\n",
            "3       29\n",
            "4       42\n",
            "...    ...\n",
            "8373    31\n",
            "8374    38\n",
            "8375    43\n",
            "8376    37\n",
            "8377    24\n",
            "\n",
            "[8378 rows x 1 columns]\n"
          ]
        }
      ]
    },
    {
      "cell_type": "markdown",
      "source": [
        "4. Se calcula la media y la desviación estándar de la edad"
      ],
      "metadata": {
        "id": "m_bbpgXRUNsr"
      }
    },
    {
      "cell_type": "code",
      "source": [
        "print(\"La media de la edad es: \",np.mean(XDe))\n",
        "print(\"La desviación estándar de la variable es: \",np.std(XDe))\n",
        "print(\"La edad mínima es: \" ,np.mean(XDe)-np.std(XDe))\n",
        "print(\"La edad máxima es: \" ,np.mean(XDe)+np.std(XDe))"
      ],
      "metadata": {
        "colab": {
          "base_uri": "https://localhost:8080/"
        },
        "id": "4cWziY-5UD6-",
        "outputId": "9a0dfcbb-a374-48f9-e1a2-b5dffd4fa3f7"
      },
      "execution_count": null,
      "outputs": [
        {
          "output_type": "stream",
          "name": "stdout",
          "text": [
            "la media de la edad es:  40.913583194079735\n",
            "La desviación estándar de la variable es:  12.22583035765565\n",
            "La edad mínima es:  28.687752836424085\n",
            "La edad máxima es:  53.13941355173539\n"
          ]
        }
      ]
    },
    {
      "cell_type": "code",
      "source": [
        "print(\"La edad mínima es: \" ,np.mean(XDe)-2*np.std(XDe))\n",
        "print(\"La edad máxima es: \" ,np.mean(XDe)+2*np.std(XDe))"
      ],
      "metadata": {
        "colab": {
          "base_uri": "https://localhost:8080/"
        },
        "id": "n-wbq-ewjQpx",
        "outputId": "0c91d5a7-f73d-49ed-9ea3-54105d5a502f"
      },
      "execution_count": null,
      "outputs": [
        {
          "output_type": "stream",
          "name": "stdout",
          "text": [
            "La edad mínima es:  16.461922478768436\n",
            "La edad máxima es:  65.36524390939104\n"
          ]
        }
      ]
    },
    {
      "cell_type": "markdown",
      "source": [
        "5. Histograma de Frecuencias - Agrupar los datos por intervalos"
      ],
      "metadata": {
        "id": "9IG9rstGZIbi"
      }
    },
    {
      "cell_type": "code",
      "source": [
        "import matplotlib.pyplot as plt\n",
        "plt.hist(XDe, bins=20)\n",
        "plt.show()"
      ],
      "metadata": {
        "colab": {
          "base_uri": "https://localhost:8080/",
          "height": 430
        },
        "id": "B6vegKgJZOgz",
        "outputId": "69b22271-73d2-4ae1-c7d1-3a253b418d07"
      },
      "execution_count": null,
      "outputs": [
        {
          "output_type": "display_data",
          "data": {
            "text/plain": [
              "<Figure size 640x480 with 1 Axes>"
            ],
            "image/png": "[encoded data removed]"
          },
          "metadata": {}
        }
      ]
    },
    {
      "cell_type": "markdown",
      "source": [
        "6. Calcular el valor de pertenencia para una persona de 60 años (0,1) - Afinidad de un valor por una variable aleatoria"
      ],
      "metadata": {
        "id": "7Wg1h3tCaz55"
      }
    },
    {
      "cell_type": "code",
      "source": [
        "VP=np.exp(-0.5*((60-np.mean(XDe))/np.std(XDe))**2)\n",
        "print(\"El valor de pertenencia de una edad de 60 años es: \",VP)"
      ],
      "metadata": {
        "colab": {
          "base_uri": "https://localhost:8080/"
        },
        "id": "CKJ_2uwdbApn",
        "outputId": "17edd3a4-ed92-41f7-f4e7-a73c1a36403b"
      },
      "execution_count": null,
      "outputs": [
        {
          "output_type": "stream",
          "name": "stdout",
          "text": [
            "El valor de pertenencia de una edad de 60 años es:  0.2956430260860924\n"
          ]
        }
      ]
    }
  ]
}