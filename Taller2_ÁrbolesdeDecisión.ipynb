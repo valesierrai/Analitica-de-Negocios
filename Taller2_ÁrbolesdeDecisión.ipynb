{
  "nbformat": 4,
  "nbformat_minor": 0,
  "metadata": {
    "colab": {
      "provenance": [],
      "authorship_tag": "ABX9TyMGxMOe3lbbWHN6z834JW6x",
      "include_colab_link": true
    },
    "kernelspec": {
      "name": "python3",
      "display_name": "Python 3"
    },
    "language_info": {
      "name": "python"
    }
  },
  "cells": [
    {
      "cell_type": "markdown",
      "metadata": {
        "id": "view-in-github",
        "colab_type": "text"
      },
      "source": [
        "<a href=\"https://colab.research.google.com/github/valesierrai/Analitica-de-Negocios/blob/main/Taller2_%C3%81rbolesdeDecisi%C3%B3n.ipynb\" target=\"_parent\"><img src=\"https://colab.research.google.com/assets/colab-badge.svg\" alt=\"Open In Colab\"/></a>"
      ]
    },
    {
      "cell_type": "markdown",
      "source": [
        "0. Cargamos Librerias"
      ],
      "metadata": {
        "id": "jEiwIcZFuItA"
      }
    },
    {
      "cell_type": "code",
      "execution_count": null,
      "metadata": {
        "colab": {
          "base_uri": "https://localhost:8080/"
        },
        "id": "jDPEOz-UtmKk",
        "outputId": "9911797c-2570-4020-bc29-60d1d2bbd333"
      },
      "outputs": [
        {
          "output_type": "stream",
          "name": "stdout",
          "text": [
            "Mounted at /content/drive\n"
          ]
        }
      ],
      "source": [
        "#Conexión con el Drive\n",
        "from google.colab import drive\n",
        "drive.mount('/content/drive')\n",
        "\n",
        "import numpy as np\n",
        "import pandas as pd\n",
        "from sklearn.metrics import confusion_matrix\n",
        "from sklearn.tree import DecisionTreeClassifier\n",
        "from sklearn.tree import export_graphviz\n",
        "from pydotplus import graph_from_dot_data"
      ]
    },
    {
      "cell_type": "markdown",
      "source": [
        "1. Cargamos los Datos"
      ],
      "metadata": {
        "id": "AHqZuZ1dw6KX"
      }
    },
    {
      "cell_type": "code",
      "source": [
        "nxl='/content/drive/MyDrive/Colab Notebooks/Analítica de Negocios/2. Taller 2 - Datos_Conitnue_Edu.xlsx'\n",
        "XDB=pd.read_excel(nxl,sheet_name=0)\n",
        "XDB=XDB[['Age','Marriage','Income','Edu','Own','Pet','City','ContinueEdu']]\n",
        "XDB=XDB.dropna()\n",
        "\n",
        "#Configuración de la matriz de entrada y del vector de datos deseado\n",
        "XD=np.array(XDB[['Age','Marriage','Income','Edu','Own','Pet','City']])\n",
        "yd=np.array(XDB[['ContinueEdu']])"
      ],
      "metadata": {
        "id": "gFSdIUcIw-MH"
      },
      "execution_count": null,
      "outputs": []
    },
    {
      "cell_type": "markdown",
      "source": [
        "2. Implementación del modelo"
      ],
      "metadata": {
        "id": "-8vC-BUPytPG"
      }
    },
    {
      "cell_type": "code",
      "source": [
        "mar=DecisionTreeClassifier(criterion='gini', max_depth=4)\n",
        "mar.fit(XD,yd)\n",
        "\n",
        "#Se evalua el modelo\n",
        "ydp=mar.predict(XD)\n",
        "cm=confusion_matrix(yd,ydp)"
      ],
      "metadata": {
        "colab": {
          "base_uri": "https://localhost:8080/"
        },
        "id": "Y-SA9ebkyyEA",
        "outputId": "e499f3c0-d536-4141-e4c4-39ade1f9bd1d"
      },
      "execution_count": null,
      "outputs": [
        {
          "output_type": "execute_result",
          "data": {
            "text/plain": [
              "array([[1789,    5],\n",
              "       [  51,  155]])"
            ]
          },
          "metadata": {},
          "execution_count": 5
        }
      ]
    },
    {
      "cell_type": "markdown",
      "source": [
        "3. Árbol de Desición"
      ],
      "metadata": {
        "id": "2afQbauB0y_1"
      }
    },
    {
      "cell_type": "code",
      "source": [
        "vs=['Age','Marriage','Income','Edu','Own','Pet','City'] #Titulos del Árbol\n",
        "dot_data=export_graphviz(mar,feature_names=vs) #Coloque los nombres al árbol\n",
        "graph=graph_from_dot_data(dot_data) #Crear el gráfico\n",
        "graph.write_png('Arbol_EduContinua.png')"
      ],
      "metadata": {
        "colab": {
          "base_uri": "https://localhost:8080/"
        },
        "id": "p9plA0dm0U44",
        "outputId": "a828f474-af66-497f-e0cd-13df24d31230"
      },
      "execution_count": null,
      "outputs": [
        {
          "output_type": "execute_result",
          "data": {
            "text/plain": [
              "True"
            ]
          },
          "metadata": {},
          "execution_count": 6
        }
      ]
    },
    {
      "cell_type": "markdown",
      "source": [
        "4. Evaluación del modelo (métricas)"
      ],
      "metadata": {
        "id": "EsLf8u7WQaMN"
      }
    },
    {
      "cell_type": "code",
      "source": [
        "VP=cm[0,0];FN=cm[0,1];FP=cm[1,0];VN=cm[1,1]\n",
        "Ex=(VP+VN)/(VP+VN+FP+FN)\n",
        "print(\"La exactitud es:\", Ex)\n",
        "\n",
        "Te=(FN+FP)/(VP+VN+FP+FN)\n",
        "print(\"La tasa de error es:\", Te)\n",
        "\n",
        "Pr=VP/(VP+FP)\n",
        "print(\"La precisión es:\", Pr)\n",
        "\n",
        "Esp=VN/(FN+VN)\n",
        "print(\"La espicificidad es:\", Esp)"
      ],
      "metadata": {
        "colab": {
          "base_uri": "https://localhost:8080/"
        },
        "id": "Tmz4FbT6ROkt",
        "outputId": "3b4bf680-245e-4e01-bb7a-db723f32acbc"
      },
      "execution_count": null,
      "outputs": [
        {
          "output_type": "stream",
          "name": "stdout",
          "text": [
            "La exactitud es: 0.972\n",
            "La tasa de error es: 0.028\n",
            "La precisión es: 0.9722826086956522\n",
            "La espicificidad es: 0.96875\n"
          ]
        }
      ]
    },
    {
      "cell_type": "markdown",
      "source": [
        "5. Análisis de Resultados\n",
        "\n",
        "Del proceso de los datos, se puede observar que el número de personas interesadas es de 206 y de no interesadas de 1794. Teniendo porcentajes de 10.30% (206/2000) y 89.70%(1794/2000) respectivamente. La ejecución del modelo dio como resultado cuatro nodos puros en el árbol. Los cuales están distribuidos en el nivel 3 nodo 8 ([0,138]), y en el nivel 4 los nodos 2 ([1059,0]), 5([0,3]), y el nodo 14([4,0]). Con base a esto, se podrá encontrar la regla de negocio perteneciente a cada uno de estos nodos. En este caso analizaremos la regla de negocio para el nodo con mayor numero de registros (nivel 4 nodo 2 [1059,0])sería Income <=136500.0, Income <=111000.0, income <= 99000.0, y Marriage >10.5; y la regla para el nodo puro con menor número de registros (nivel 4 nodo 5 [0,3]) es Income <=136500.0, Income >111000.0, Pet <=0.5, y City<=0.5. Asimismo, encontramos que la regla de negocio Income>136500 and Edu<=1.5 and Pet<=0.5 and Income>179,000, pertenece al nodo con los intervalos [2, 8] con gini 0.32. Así como esta Income<=136,500 and Income >111,000 and Pet>=0.5 and Edu>=1.5 pertence al nodo [50, 11] con gini 0.296. Por último, la matriz de confusión realizada para este ejercicio nos proporcionó diferentes métricas para el análisis del modelo. La exactitud alcanzada por el modelo es de 97.20%, teniendo una tasa de error de 2.80%. Además, se econtró el nivel de precisión para el modelo que arrojó un 97.23% y para la espicificidad del pronóstico dió un 96.88%."
      ],
      "metadata": {
        "id": "DGg53rvctwV5"
      }
    }
  ]
}